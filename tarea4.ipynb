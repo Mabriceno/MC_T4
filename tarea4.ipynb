{
 "cells": [
  {
   "cell_type": "code",
   "execution_count": 5,
   "id": "d6b8456f-f75c-4ddb-a7b9-03a8eb3effb2",
   "metadata": {},
   "outputs": [],
   "source": [
    "import pandas as pd\n",
    "import numpy as np\n",
    "\n",
    "from matplotlib import pyplot as plt"
   ]
  },
  {
   "cell_type": "markdown",
   "id": "f900d92c-d369-4654-a18f-ad12967cf24f",
   "metadata": {
    "tags": []
   },
   "source": [
    "# Cargar Datos y Arreglo de fechas"
   ]
  },
  {
   "cell_type": "code",
   "execution_count": 6,
   "id": "e8c744f3-746e-4ad7-972f-428f0c645daf",
   "metadata": {},
   "outputs": [],
   "source": [
    "df_pr = pd.read_csv('datos/precip_cr2met_day.csv')\n",
    "df_qq = pd.read_csv('datos/q_mm_day.csv')"
   ]
  },
  {
   "cell_type": "code",
   "execution_count": 7,
   "id": "f1140f7b-853d-4e32-9cc6-f302e97841df",
   "metadata": {},
   "outputs": [
    {
     "data": {
      "text/html": [
       "<div>\n",
       "<style scoped>\n",
       "    .dataframe tbody tr th:only-of-type {\n",
       "        vertical-align: middle;\n",
       "    }\n",
       "\n",
       "    .dataframe tbody tr th {\n",
       "        vertical-align: top;\n",
       "    }\n",
       "\n",
       "    .dataframe thead th {\n",
       "        text-align: right;\n",
       "    }\n",
       "</style>\n",
       "<table border=\"1\" class=\"dataframe\">\n",
       "  <thead>\n",
       "    <tr style=\"text-align: right;\">\n",
       "      <th></th>\n",
       "      <th>date</th>\n",
       "      <th>year</th>\n",
       "      <th>month</th>\n",
       "      <th>day</th>\n",
       "      <th>9414001</th>\n",
       "    </tr>\n",
       "  </thead>\n",
       "  <tbody>\n",
       "    <tr>\n",
       "      <th>0</th>\n",
       "      <td>1979-01-01</td>\n",
       "      <td>1979</td>\n",
       "      <td>1</td>\n",
       "      <td>1</td>\n",
       "      <td>0.0</td>\n",
       "    </tr>\n",
       "    <tr>\n",
       "      <th>1</th>\n",
       "      <td>1979-01-02</td>\n",
       "      <td>1979</td>\n",
       "      <td>1</td>\n",
       "      <td>2</td>\n",
       "      <td>0.0</td>\n",
       "    </tr>\n",
       "    <tr>\n",
       "      <th>2</th>\n",
       "      <td>1979-01-03</td>\n",
       "      <td>1979</td>\n",
       "      <td>1</td>\n",
       "      <td>3</td>\n",
       "      <td>0.0</td>\n",
       "    </tr>\n",
       "    <tr>\n",
       "      <th>3</th>\n",
       "      <td>1979-01-04</td>\n",
       "      <td>1979</td>\n",
       "      <td>1</td>\n",
       "      <td>4</td>\n",
       "      <td>0.0</td>\n",
       "    </tr>\n",
       "    <tr>\n",
       "      <th>4</th>\n",
       "      <td>1979-01-05</td>\n",
       "      <td>1979</td>\n",
       "      <td>1</td>\n",
       "      <td>5</td>\n",
       "      <td>0.0</td>\n",
       "    </tr>\n",
       "  </tbody>\n",
       "</table>\n",
       "</div>"
      ],
      "text/plain": [
       "         date  year  month  day  9414001\n",
       "0  1979-01-01  1979      1    1      0.0\n",
       "1  1979-01-02  1979      1    2      0.0\n",
       "2  1979-01-03  1979      1    3      0.0\n",
       "3  1979-01-04  1979      1    4      0.0\n",
       "4  1979-01-05  1979      1    5      0.0"
      ]
     },
     "execution_count": 7,
     "metadata": {},
     "output_type": "execute_result"
    }
   ],
   "source": [
    "df_pr.head()"
   ]
  },
  {
   "cell_type": "code",
   "execution_count": 8,
   "id": "bca6b744-b66c-4946-a5a2-27bee2ec99b3",
   "metadata": {},
   "outputs": [
    {
     "data": {
      "text/html": [
       "<div>\n",
       "<style scoped>\n",
       "    .dataframe tbody tr th:only-of-type {\n",
       "        vertical-align: middle;\n",
       "    }\n",
       "\n",
       "    .dataframe tbody tr th {\n",
       "        vertical-align: top;\n",
       "    }\n",
       "\n",
       "    .dataframe thead th {\n",
       "        text-align: right;\n",
       "    }\n",
       "</style>\n",
       "<table border=\"1\" class=\"dataframe\">\n",
       "  <thead>\n",
       "    <tr style=\"text-align: right;\">\n",
       "      <th></th>\n",
       "      <th>date</th>\n",
       "      <th>9414001</th>\n",
       "    </tr>\n",
       "  </thead>\n",
       "  <tbody>\n",
       "    <tr>\n",
       "      <th>0</th>\n",
       "      <td>1900-01-01</td>\n",
       "      <td>NaN</td>\n",
       "    </tr>\n",
       "    <tr>\n",
       "      <th>1</th>\n",
       "      <td>1900-01-02</td>\n",
       "      <td>NaN</td>\n",
       "    </tr>\n",
       "    <tr>\n",
       "      <th>2</th>\n",
       "      <td>1900-01-03</td>\n",
       "      <td>NaN</td>\n",
       "    </tr>\n",
       "    <tr>\n",
       "      <th>3</th>\n",
       "      <td>1900-01-04</td>\n",
       "      <td>NaN</td>\n",
       "    </tr>\n",
       "    <tr>\n",
       "      <th>4</th>\n",
       "      <td>1900-01-05</td>\n",
       "      <td>NaN</td>\n",
       "    </tr>\n",
       "  </tbody>\n",
       "</table>\n",
       "</div>"
      ],
      "text/plain": [
       "         date  9414001\n",
       "0  1900-01-01      NaN\n",
       "1  1900-01-02      NaN\n",
       "2  1900-01-03      NaN\n",
       "3  1900-01-04      NaN\n",
       "4  1900-01-05      NaN"
      ]
     },
     "execution_count": 8,
     "metadata": {},
     "output_type": "execute_result"
    }
   ],
   "source": [
    "df_qq.head()"
   ]
  },
  {
   "cell_type": "markdown",
   "id": "380bce15-3b1f-441a-a54f-736bae645958",
   "metadata": {
    "tags": []
   },
   "source": [
    "## Definiendo limites"
   ]
  },
  {
   "cell_type": "code",
   "execution_count": 9,
   "id": "ab8f6ecd-a112-4521-9f57-8231fa98c858",
   "metadata": {},
   "outputs": [
    {
     "name": "stderr",
     "output_type": "stream",
     "text": [
      "/Users/lequi/opt/anaconda3/lib/python3.8/site-packages/IPython/core/interactiveshell.py:3369: UserWarning: Parsing '31/12/2018' in DD/MM/YYYY format. Provide format or specify infer_datetime_format=True for consistent parsing.\n",
      "  exec(code_obj, self.user_global_ns, self.user_ns)\n"
     ]
    }
   ],
   "source": [
    "date_serie = pd.date_range(start='1/01/1979', end='31/12/2018', freq='D')"
   ]
  },
  {
   "cell_type": "code",
   "execution_count": 10,
   "id": "d7ab97a9-5db4-4b5e-9c2b-4e51e7420606",
   "metadata": {},
   "outputs": [
    {
     "data": {
      "text/plain": [
       "DatetimeIndex(['1979-01-01', '1979-01-02', '1979-01-03', '1979-01-04',\n",
       "               '1979-01-05', '1979-01-06', '1979-01-07', '1979-01-08',\n",
       "               '1979-01-09', '1979-01-10',\n",
       "               ...\n",
       "               '2018-12-22', '2018-12-23', '2018-12-24', '2018-12-25',\n",
       "               '2018-12-26', '2018-12-27', '2018-12-28', '2018-12-29',\n",
       "               '2018-12-30', '2018-12-31'],\n",
       "              dtype='datetime64[ns]', length=14610, freq='D')"
      ]
     },
     "execution_count": 10,
     "metadata": {},
     "output_type": "execute_result"
    }
   ],
   "source": [
    "date_serie"
   ]
  },
  {
   "cell_type": "code",
   "execution_count": 11,
   "id": "787f069e-72ac-45bc-b7f5-c7fce0552875",
   "metadata": {},
   "outputs": [
    {
     "data": {
      "text/plain": [
       "'1900-01-01'"
      ]
     },
     "execution_count": 11,
     "metadata": {},
     "output_type": "execute_result"
    }
   ],
   "source": [
    "list(df_qq['date'])[0]"
   ]
  },
  {
   "cell_type": "code",
   "execution_count": 12,
   "id": "cf2b8cc1-c3c4-498b-af09-78497eb49458",
   "metadata": {},
   "outputs": [
    {
     "data": {
      "text/plain": [
       "'1980-05-15'"
      ]
     },
     "execution_count": 12,
     "metadata": {},
     "output_type": "execute_result"
    }
   ],
   "source": [
    "str(date_serie[500])[:-9]"
   ]
  },
  {
   "cell_type": "code",
   "execution_count": 13,
   "id": "e110d0b3-0111-4493-b643-374411153bcc",
   "metadata": {},
   "outputs": [],
   "source": [
    "start_date = '1979-01-01'\n",
    "end_date = '2018-12-31'"
   ]
  },
  {
   "cell_type": "code",
   "execution_count": 14,
   "id": "965381a7-28b8-4a8f-bfbb-8672092b7baa",
   "metadata": {},
   "outputs": [
    {
     "data": {
      "text/plain": [
       "28854"
      ]
     },
     "execution_count": 14,
     "metadata": {},
     "output_type": "execute_result"
    }
   ],
   "source": [
    "list(df_qq['date']).index(start_date)"
   ]
  },
  {
   "cell_type": "code",
   "execution_count": 15,
   "id": "6f108e61-6136-43d8-8760-1347b9f45480",
   "metadata": {},
   "outputs": [
    {
     "data": {
      "text/plain": [
       "43463"
      ]
     },
     "execution_count": 15,
     "metadata": {},
     "output_type": "execute_result"
    }
   ],
   "source": [
    "list(df_qq['date']).index(end_date)"
   ]
  },
  {
   "cell_type": "code",
   "execution_count": 16,
   "id": "77402a09-1fb6-44bf-8369-7a540d15be18",
   "metadata": {},
   "outputs": [],
   "source": [
    "date_qq = np.array(df_qq['date'][28854:43463+1])\n",
    "qq = np.array(df_qq['9414001'][28854:43463+1])"
   ]
  },
  {
   "cell_type": "code",
   "execution_count": 17,
   "id": "cf21f2db-865b-4cd4-8ac8-d0da9be92579",
   "metadata": {},
   "outputs": [
    {
     "data": {
      "text/plain": [
       "14609"
      ]
     },
     "execution_count": 17,
     "metadata": {},
     "output_type": "execute_result"
    }
   ],
   "source": [
    "list(df_pr['date']).index(end_date)"
   ]
  },
  {
   "cell_type": "code",
   "execution_count": 18,
   "id": "28e8dfe1-bd81-4f31-835b-89431e8d82cf",
   "metadata": {},
   "outputs": [],
   "source": [
    "date_pr = np.array(df_pr['date'][0:14609+1])\n",
    "pr = np.array(df_pr['9414001'][0:14609+1])"
   ]
  },
  {
   "cell_type": "code",
   "execution_count": 19,
   "id": "a0c8e240-2fa2-4eca-96a0-e74a52721bfd",
   "metadata": {},
   "outputs": [
    {
     "name": "stdout",
     "output_type": "stream",
     "text": [
      "[14610, 14610, 14610]\n"
     ]
    }
   ],
   "source": [
    "print([len(pr), len(qq), len(date_serie)])"
   ]
  },
  {
   "cell_type": "markdown",
   "id": "80c408ee-2768-430b-904f-7f9c0fb08018",
   "metadata": {},
   "source": [
    "No hay días faltantes"
   ]
  },
  {
   "cell_type": "code",
   "execution_count": 20,
   "id": "024a3f37-b82b-4184-8fa5-e5392f17fdfe",
   "metadata": {},
   "outputs": [],
   "source": [
    "from tqdm import tqdm as tq"
   ]
  },
  {
   "cell_type": "markdown",
   "id": "c13e0268-92fb-4e4f-8837-0fbc4e9fb868",
   "metadata": {
    "tags": []
   },
   "source": [
    "## Eliminacion de años bisiestos"
   ]
  },
  {
   "cell_type": "code",
   "execution_count": 21,
   "id": "e2a26eb1-deb9-49aa-b2d3-f02ca45ac49a",
   "metadata": {},
   "outputs": [
    {
     "name": "stderr",
     "output_type": "stream",
     "text": [
      "100%|██████████████████████████████████| 14610/14610 [00:00<00:00, 83559.28it/s]\n"
     ]
    }
   ],
   "source": [
    "date = []\n",
    "qq_ = []\n",
    "pr_ = []\n",
    "for i in tq(range(0, len(date_serie))):\n",
    "    if str(date_serie[i])[5:-9] != '02-29':\n",
    "        qq_.append(qq[i])\n",
    "        pr_.append(pr[i])\n",
    "        date.append(date_serie[i])\n",
    "    "
   ]
  },
  {
   "cell_type": "code",
   "execution_count": 22,
   "id": "481b1c46-5ee3-4480-97ec-45c399cf42a2",
   "metadata": {},
   "outputs": [
    {
     "data": {
      "text/plain": [
       "40.0"
      ]
     },
     "execution_count": 22,
     "metadata": {},
     "output_type": "execute_result"
    }
   ],
   "source": [
    "len(date)/365"
   ]
  },
  {
   "cell_type": "code",
   "execution_count": 23,
   "id": "694f5c11-f2c0-42c3-8b44-1cacfdeeb815",
   "metadata": {},
   "outputs": [
    {
     "data": {
      "text/plain": [
       "14600"
      ]
     },
     "execution_count": 23,
     "metadata": {},
     "output_type": "execute_result"
    }
   ],
   "source": [
    "df = pd.DataFrame({'date':date,\n",
    "                  'pr': pr_,\n",
    "                  'qq': qq_ })\n",
    "\n",
    "len(df)"
   ]
  },
  {
   "cell_type": "markdown",
   "id": "dc700e46-34b8-4b87-afd4-aa32ce1d2677",
   "metadata": {},
   "source": [
    "# 1. Analisis armónico"
   ]
  },
  {
   "cell_type": "code",
   "execution_count": 24,
   "id": "d2cb1d47-ebfc-4422-a21e-1505e41c6680",
   "metadata": {},
   "outputs": [],
   "source": [
    "qq_cicle = np.split(np.array(df['qq']), 40)\n",
    "qq_cicle = np.array(qq_cicle).T\n",
    "\n",
    "qq_cicle_mean = np.nanmean(qq_cicle, axis=1)\n",
    "\n",
    "\n",
    "pr_cicle = np.split(np.array(df['pr']), 40)\n",
    "pr_cicle = np.array(pr_cicle).T\n",
    "\n",
    "pr_cicle_mean = np.nanmean(pr_cicle, axis=1)"
   ]
  },
  {
   "cell_type": "code",
   "execution_count": 25,
   "id": "45900ea2-4e26-4865-82ec-9b3ec300d427",
   "metadata": {},
   "outputs": [
    {
     "data": {
      "text/plain": [
       "[<matplotlib.lines.Line2D at 0x7fccf12e8f70>]"
      ]
     },
     "execution_count": 25,
     "metadata": {},
     "output_type": "execute_result"
    },
    {
     "data": {
      "image/png": "[encoded data removed]",
      "text/plain": [
       "<Figure size 432x288 with 1 Axes>"
      ]
     },
     "metadata": {
      "needs_background": "light"
     },
     "output_type": "display_data"
    }
   ],
   "source": [
    "plt.plot(list(range(1, 366)), qq_cicle_mean)\n",
    "plt.plot(list(range(1, 366)), pr_cicle_mean)"
   ]
  },
  {
   "cell_type": "code",
   "execution_count": 26,
   "id": "a3c9a072-7215-47ba-8902-24603c3845c6",
   "metadata": {},
   "outputs": [],
   "source": [
    "def armonico(x, T):\n",
    "    return [np.cos((2.0*np.pi*x)/T), np.sin((2.0*np.pi*x)/T), \n",
    "            np.cos((2.0*np.pi*x)/(T/2)), np.sin((2.0*np.pi*x)/(T/2)),\n",
    "            np.cos((2.0*np.pi*x)/(T/3)), np.sin((2.0*np.pi*x)/(T/3))]"
   ]
  },
  {
   "cell_type": "code",
   "execution_count": 27,
   "id": "e5db1620-749d-46ad-8f53-277cd18d181e",
   "metadata": {},
   "outputs": [
    {
     "name": "stderr",
     "output_type": "stream",
     "text": [
      "/var/folders/vm/k8dh5m_x4d15bk5cwzk1zk1r0000gn/T/ipykernel_49800/37970206.py:3: FutureWarning: DataFrame.mean and DataFrame.median with numeric_only=None will include datetime64 and datetime64tz columns in a future version.\n",
      "  df.fillna(df.mean(), inplace=True)\n"
     ]
    },
    {
     "data": {
      "text/plain": [
       "LinearRegression()"
      ]
     },
     "execution_count": 27,
     "metadata": {},
     "output_type": "execute_result"
    }
   ],
   "source": [
    "from sklearn import linear_model\n",
    "\n",
    "df.fillna(df.mean(), inplace=True)\n",
    "\n",
    "y = df['qq']\n",
    "\n",
    "t = np.array(list(range(0, len(y))))\n",
    "X = np.array(armonico(t, 365)).T\n",
    "\n",
    "regr_qq = linear_model.LinearRegression()\n",
    "regr_qq.fit(X, y)"
   ]
  },
  {
   "cell_type": "code",
   "execution_count": 28,
   "id": "20d25cd6-4a4d-41e6-88a2-766d9d3a51b4",
   "metadata": {},
   "outputs": [],
   "source": [
    "qq_ = regr_qq.predict([armonico(x,365) for x in range(1,14601)])"
   ]
  },
  {
   "cell_type": "code",
   "execution_count": 29,
   "id": "34634d5f-10a1-4119-b657-400e9cd89f73",
   "metadata": {},
   "outputs": [
    {
     "data": {
      "text/plain": [
       "LinearRegression()"
      ]
     },
     "execution_count": 29,
     "metadata": {},
     "output_type": "execute_result"
    }
   ],
   "source": [
    "y = df['pr']\n",
    "\n",
    "t = np.array(list(range(0, len(y))))\n",
    "X = np.array(armonico(t, 365)).T\n",
    "\n",
    "regr_pr = linear_model.LinearRegression()\n",
    "regr_pr.fit(X, y)"
   ]
  },
  {
   "cell_type": "code",
   "execution_count": 30,
   "id": "b036e8dc-c3d7-4f9e-815e-21ca8c5019ff",
   "metadata": {},
   "outputs": [],
   "source": [
    "pr_ = regr_pr.predict([armonico(x,365) for x in range(1,14601)])"
   ]
  },
  {
   "cell_type": "code",
   "execution_count": 31,
   "id": "6f56f3d2-8f0a-49ea-bfc1-2af3475f7a0f",
   "metadata": {},
   "outputs": [
    {
     "data": {
      "text/plain": [
       "[<matplotlib.lines.Line2D at 0x7fcd04d72580>]"
      ]
     },
     "execution_count": 31,
     "metadata": {},
     "output_type": "execute_result"
    },
    {
     "data": {
      "image/png": "[encoded data removed]",
      "text/plain": [
       "<Figure size 432x288 with 1 Axes>"
      ]
     },
     "metadata": {
      "needs_background": "light"
     },
     "output_type": "display_data"
    }
   ],
   "source": [
    "plt.plot(list(range(1, 366)), qq_cicle_mean, color = 'b', alpha=.5)\n",
    "plt.plot(list(range(1, 366)), qq_[0:365], color = 'b')\n",
    "plt.plot(list(range(1, 366)), pr_cicle_mean, color = 'r', alpha=.5)\n",
    "plt.plot(list(range(1, 366)), pr_[0:365], color = 'r')"
   ]
  },
  {
   "cell_type": "code",
   "execution_count": null,
   "id": "7b27b80c-8cfe-4d07-aa74-0f24ccc74e80",
   "metadata": {},
   "outputs": [],
   "source": []
  },
  {
   "cell_type": "code",
   "execution_count": null,
   "id": "c1c918fd-fcad-4ff2-9275-699827277a15",
   "metadata": {},
   "outputs": [],
   "source": []
  },
  {
   "cell_type": "code",
   "execution_count": null,
   "id": "f004682c-bb36-467d-8b99-723fbe2f5208",
   "metadata": {},
   "outputs": [],
   "source": []
  },
  {
   "cell_type": "markdown",
   "id": "c4d89d94-c82b-4be8-b33d-3ad29aec5fc5",
   "metadata": {},
   "source": [
    "# 2. Analisis espectral"
   ]
  },
  {
   "cell_type": "markdown",
   "id": "16693312-0da6-43d4-aeec-f2898356c59f",
   "metadata": {
    "tags": []
   },
   "source": [
    "## Anomalias diarias"
   ]
  },
  {
   "cell_type": "code",
   "execution_count": 32,
   "id": "21b2a0d7-003a-4c46-bd47-25b7a5eea1ea",
   "metadata": {},
   "outputs": [],
   "source": [
    "aqq = df['qq'].values - qq_\n",
    "apr = df['pr'].values - pr_"
   ]
  },
  {
   "cell_type": "code",
   "execution_count": 33,
   "id": "d39ba4ef-f3cf-4598-9950-f09cf12e0461",
   "metadata": {},
   "outputs": [
    {
     "data": {
      "text/plain": [
       "[<matplotlib.lines.Line2D at 0x7fcd03f09d30>]"
      ]
     },
     "execution_count": 33,
     "metadata": {},
     "output_type": "execute_result"
    },
    {
     "data": {
      "image/png": "[encoded data removed]",
      "text/plain": [
       "<Figure size 432x288 with 1 Axes>"
      ]
     },
     "metadata": {
      "needs_background": "light"
     },
     "output_type": "display_data"
    }
   ],
   "source": [
    "plt.plot(df['date'],aqq)"
   ]
  },
  {
   "cell_type": "code",
   "execution_count": 34,
   "id": "2cbdf187-f137-4e48-9f79-7718326bd4de",
   "metadata": {},
   "outputs": [
    {
     "data": {
      "text/plain": [
       "[<matplotlib.lines.Line2D at 0x7fcd03f09a60>]"
      ]
     },
     "execution_count": 34,
     "metadata": {},
     "output_type": "execute_result"
    },
    {
     "data": {
      "image/png": "[encoded data removed]",
      "text/plain": [
       "<Figure size 432x288 with 1 Axes>"
      ]
     },
     "metadata": {
      "needs_background": "light"
     },
     "output_type": "display_data"
    }
   ],
   "source": [
    "plt.plot(df['date'],apr)"
   ]
  },
  {
   "cell_type": "markdown",
   "id": "de16d1cf-2961-4ee6-abb6-4e80079faf06",
   "metadata": {},
   "source": [
    "## Espectro de anomalias"
   ]
  },
  {
   "cell_type": "code",
   "execution_count": 35,
   "id": "37b7b88f-2a71-427e-9795-d7d5544dc8d8",
   "metadata": {},
   "outputs": [],
   "source": [
    "def espectro(x, T):\n",
    "    AB=[]\n",
    "    for k in range(1, 7301):\n",
    "        AB.append(np.cos((2.0*k*np.pi*x)/T))\n",
    "        AB.append(np.sin((2.0*k*np.pi*x)/T))\n",
    "        \n",
    "    return np.array(AB).T"
   ]
  },
  {
   "cell_type": "code",
   "execution_count": 36,
   "id": "0efa32df-1511-47d3-ad3e-9b5d1d786907",
   "metadata": {},
   "outputs": [],
   "source": [
    "t = np.array(list(range(1,14601)))"
   ]
  },
  {
   "cell_type": "code",
   "execution_count": 37,
   "id": "d454bf79-4dc6-4a12-afde-fdbf171e069b",
   "metadata": {},
   "outputs": [
    {
     "name": "stdout",
     "output_type": "stream",
     "text": [
      "[ 9.99999907e-01  4.30355145e-04  9.99999630e-01 ...  4.30355145e-04\n",
      " -1.00000000e+00  1.22464680e-16]\n"
     ]
    }
   ],
   "source": [
    "AB= espectro(t, 14600)\n",
    "print(AB[0])"
   ]
  },
  {
   "cell_type": "code",
   "execution_count": 38,
   "id": "730423f1-5072-45ea-82b0-e04f7fc0a145",
   "metadata": {},
   "outputs": [
    {
     "data": {
      "text/plain": [
       "(14600,)"
      ]
     },
     "execution_count": 38,
     "metadata": {},
     "output_type": "execute_result"
    }
   ],
   "source": [
    "np.shape(aqq)"
   ]
  },
  {
   "cell_type": "code",
   "execution_count": null,
   "id": "fe0ad216-a5d7-4215-a1df-fe549eb6347a",
   "metadata": {},
   "outputs": [],
   "source": [
    "regr_qq = linear_model.LinearRegression()\n",
    "tq(regr_qq.fit(AB, aqq))\n",
    "\n",
    "regr_pr = linear_model.LinearRegression()\n",
    "regr_pr.fit(AB, apr)"
   ]
  },
  {
   "cell_type": "code",
   "execution_count": null,
   "id": "8cef197b-f5f8-425d-8ff4-12c03441f5a4",
   "metadata": {},
   "outputs": [],
   "source": []
  },
  {
   "cell_type": "code",
   "execution_count": 104,
   "id": "a9ed7dd5-78ea-49be-92bb-bd77e373202a",
   "metadata": {},
   "outputs": [],
   "source": [
    "A_qq = [regr_qq.coef_[i] for i in range(0, len(regr_qq.coef_), 2)]\n",
    "A_pr = [regr_pr.coef_[i] for i in range(0, len(regr_pr.coef_), 2)]\n",
    "\n",
    "B_qq = [regr_qq.coef_[i+1] for i in range(0, len(regr_qq.coef_), 2)]\n",
    "B_pr = [regr_pr.coef_[i+1] for i in range(0, len(regr_pr.coef_), 2)]"
   ]
  },
  {
   "cell_type": "code",
   "execution_count": 105,
   "id": "f970e833-34e7-48c1-a0ad-5d3f6424472c",
   "metadata": {},
   "outputs": [
    {
     "data": {
      "text/plain": [
       "182"
      ]
     },
     "execution_count": 105,
     "metadata": {},
     "output_type": "execute_result"
    }
   ],
   "source": [
    "C_pr = [(A_pr[i]**2 + B_pr[i]**2)**(1/2) for i in range(0, len(A_pr))]\n",
    "C_qq = [(A_qq[i]**2 + B_qq[i]**2)**(1/2) for i in range(0, len(A_qq))]\n",
    "\n",
    "len(C_qq)"
   ]
  },
  {
   "cell_type": "code",
   "execution_count": 106,
   "id": "d5ada206-1f35-4043-9b4c-311885fd5cff",
   "metadata": {},
   "outputs": [],
   "source": [
    "apr_ = regr_pr.predict([espectro(x,365).T for x in range(1,366)])\n",
    "aqq_ = regr_qq.predict([espectro(x,365).T for x in range(1,366)])"
   ]
  },
  {
   "cell_type": "code",
   "execution_count": 108,
   "id": "2b097fdc-b3aa-4473-bd83-e7553fd94860",
   "metadata": {},
   "outputs": [
    {
     "data": {
      "text/plain": [
       "[<matplotlib.lines.Line2D at 0x7fc0c80be610>]"
      ]
     },
     "execution_count": 108,
     "metadata": {},
     "output_type": "execute_result"
    },
    {
     "data": {
      "image/png": "[encoded data removed]",
      "text/plain": [
       "<Figure size 432x288 with 1 Axes>"
      ]
     },
     "metadata": {
      "needs_background": "light"
     },
     "output_type": "display_data"
    }
   ],
   "source": [
    "plt.plot(list(range(1, 183)), C_pr, color = 'b', alpha=.5)\n",
    "#plt.plot(list(range(1, 366)), aqq_, color = 'b')\n",
    "#plt.plot(list(range(1, 366)), apr, color = 'r', alpha=.5)\n",
    "#plt.plot(list(range(1, 366)), apr_, color = 'r')"
   ]
  },
  {
   "cell_type": "code",
   "execution_count": 49,
   "id": "262a7250-0335-44ed-8de1-16a8c29850a2",
   "metadata": {},
   "outputs": [],
   "source": [
    "def fase_phi(A,B):\n",
    "    phi = []\n",
    "    for k in range(0,len(A)):\n",
    "        if A[k]>0:\n",
    "            phi.append(np.arctan(B[k]/A[k]))\n",
    "        elif A[k]<0:\n",
    "            phi.append(np.arctan(B[k]/A[k])+np.pi)\n",
    "        elif A[K]==0:\n",
    "            phi.append(np.pi/2)\n",
    "    return np.array(phi)"
   ]
  },
  {
   "cell_type": "code",
   "execution_count": 52,
   "id": "0c85220b-4281-439e-ab7e-712962917185",
   "metadata": {},
   "outputs": [],
   "source": [
    "phi_pr = fase_phi(A_pr, B_pr)\n",
    "phi_qq = fase_phi(A_qq, B_qq)"
   ]
  },
  {
   "cell_type": "code",
   "execution_count": 171,
   "id": "568356e8-c880-49ea-8a5c-9237ea1bea1a",
   "metadata": {},
   "outputs": [],
   "source": [
    "plt.plot(list(range(1, 366)), aqq, color = 'b', alpha=.5)\n",
    "plt.plot(list(range(1, 366)), , color = 'b')\n",
    "plt.plot(list(range(1, 366)), pr_cicle_mean, color = 'r', alpha=.5)\n",
    "plt.plot(list(range(1, 366)), pr_, color = 'r')"
   ]
  },
  {
   "cell_type": "code",
   "execution_count": 172,
   "id": "79bebc4f-414a-4c3e-8655-dca30a5b07ad",
   "metadata": {},
   "outputs": [
    {
     "data": {
      "text/plain": [
       "[<matplotlib.lines.Line2D at 0x7fe9926a2c40>]"
      ]
     },
     "execution_count": 172,
     "metadata": {},
     "output_type": "execute_result"
    },
    {
     "data": {
      "image/png": "[encoded data removed]",
      "text/plain": [
       "<Figure size 432x288 with 1 Axes>"
      ]
     },
     "metadata": {
      "needs_background": "light"
     },
     "output_type": "display_data"
    }
   ],
   "source": []
  },
  {
   "cell_type": "code",
   "execution_count": null,
   "id": "083f9157-d73c-41bd-9e00-99cd9e0e3c73",
   "metadata": {},
   "outputs": [],
   "source": []
  }
 ],
 "metadata": {
  "kernelspec": {
   "display_name": "Python 3 (ipykernel)",
   "language": "python",
   "name": "python3"
  },
  "language_info": {
   "codemirror_mode": {
    "name": "ipython",
    "version": 3
   },
   "file_extension": ".py",
   "mimetype": "text/x-python",
   "name": "python",
   "nbconvert_exporter": "python",
   "pygments_lexer": "ipython3",
   "version": "3.8.13"
  }
 },
 "nbformat": 4,
 "nbformat_minor": 5
}
